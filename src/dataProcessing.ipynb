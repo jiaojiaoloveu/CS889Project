{
 "cells": [
  {
   "cell_type": "code",
   "execution_count": 1,
   "metadata": {
    "collapsed": true
   },
   "outputs": [],
   "source": [
    "%matplotlib inline\n",
    "from pylab import *\n",
    "from sklearn import datasets\n",
    "from ipywidgets import Button\n",
    "from IPython.display import display, clear_output\n",
    "import json"
   ]
  },
  {
   "cell_type": "code",
   "execution_count": 2,
   "metadata": {
    "collapsed": false
   },
   "outputs": [],
   "source": [
    "class Trainer:\n",
    "    def __init__(self, faces):\n",
    "        self.results = {}\n",
    "        self.imgs = faces.images\n",
    "        self.index = 0\n",
    "        \n",
    "    def increment_face(self):\n",
    "        if self.index + 1 >= len(self.imgs):\n",
    "            return self.index\n",
    "        else:\n",
    "            while str(self.index) in self.results:\n",
    "                print(self.index)\n",
    "                self.index += 1\n",
    "            return self.index\n",
    "    \n",
    "    def record_result(self, face):\n",
    "        self.results[str(self.index)] = face\n",
    "        \n",
    "    def save(self):\n",
    "        with open('results.xml', 'w') as f:\n",
    "            json.dump(self.results, f)"
   ]
  },
  {
   "cell_type": "code",
   "execution_count": 3,
   "metadata": {
    "collapsed": false
   },
   "outputs": [
    {
     "data": {
      "image/png": "[encoded data removed]",
      "text/plain": [
       "<matplotlib.figure.Figure at 0x7f0b4d057b38>"
      ]
     },
     "metadata": {},
     "output_type": "display_data"
    }
   ],
   "source": [
    "faces = datasets.fetch_olivetti_faces()\n",
    "trainer = Trainer(faces)\n",
    "button_smile = Button(description = 'smile')\n",
    "button_sad = Button(description = 'sad')\n",
    "button_neutral = Button(description = 'neutral')\n",
    "\n",
    "def display_face(face):\n",
    "    clear_output()\n",
    "    imshow(face, cmap='gray')\n",
    "    axis('off')\n",
    "\n",
    "def update_smile(b):\n",
    "    trainer.record_result(1)\n",
    "    trainer.increment_face()\n",
    "    display_face(trainer.imgs[trainer.index])\n",
    "\n",
    "def update_sad(b):\n",
    "    trainer.record_result(-1)\n",
    "    trainer.increment_face()\n",
    "    display_face(trainer.imgs[trainer.index])\n",
    "    \n",
    "def update_neutral(b):\n",
    "    trainer.record_result(0)\n",
    "    trainer.increment_face()\n",
    "    display_face(trainer.imgs[trainer.index])\n",
    "\n",
    "button_neutral.on_click(update_neutral)\n",
    "button_sad.on_click(update_sad)\n",
    "button_smile.on_click(update_smile)\n",
    "\n",
    "display(button_smile)\n",
    "display(button_sad)\n",
    "display(button_neutral)\n",
    "display_face(trainer.imgs[trainer.index])\n"
   ]
  },
  {
   "cell_type": "code",
   "execution_count": 6,
   "metadata": {
    "collapsed": true
   },
   "outputs": [],
   "source": [
    "trainer.save()"
   ]
  },
  {
   "cell_type": "code",
   "execution_count": null,
   "metadata": {
    "collapsed": true
   },
   "outputs": [],
   "source": []
  }
 ],
 "metadata": {
  "kernelspec": {
   "display_name": "Python 3",
   "language": "python",
   "name": "python3"
  },
  "language_info": {
   "codemirror_mode": {
    "name": "ipython",
    "version": 3
   },
   "file_extension": ".py",
   "mimetype": "text/x-python",
   "name": "python",
   "nbconvert_exporter": "python",
   "pygments_lexer": "ipython3",
   "version": "3.6.0"
  },
  "widgets": {
   "state": {
    "046572511a794527ba926f15a9674f77": {
     "views": [
      {
       "cell_index": 2
      }
     ]
    },
    "066ebf2e613649c6aa937f144bbfbae0": {
     "views": [
      {
       "cell_index": 2
      }
     ]
    },
    "0bfcc189ecbe4c26a28744c81500b6e8": {
     "views": [
      {
       "cell_index": 0
      }
     ]
    },
    "1498e148c45546b9a88902b21ab309e3": {
     "views": [
      {
       "cell_index": 0
      }
     ]
    },
    "5016e9dc5fa84dacaf9689567b325134": {
     "views": [
      {
       "cell_index": 2
      }
     ]
    },
    "80b43f00faf84f0d8d23f7267ae15413": {
     "views": [
      {
       "cell_index": 2
      }
     ]
    },
    "853302d42f374a72a54d4267e9ca239a": {
     "views": [
      {
       "cell_index": 0
      }
     ]
    },
    "b74d477350b94d60855439bcbb3d2e44": {
     "views": [
      {
       "cell_index": 2
      }
     ]
    },
    "b92861c3324944b0ad572875f3cfe070": {
     "views": [
      {
       "cell_index": 0
      }
     ]
    },
    "bd543b69dcbd4adbbe87501dd5006c74": {
     "views": [
      {
       "cell_index": 2
      }
     ]
    },
    "dee774d07d564709811f2dfeccc0506e": {
     "views": [
      {
       "cell_index": 2
      }
     ]
    }
   },
   "version": "1.2.0"
  }
 },
 "nbformat": 4,
 "nbformat_minor": 2
}
